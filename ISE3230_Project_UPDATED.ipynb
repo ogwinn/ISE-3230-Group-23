{
 "cells": [
  {
   "cell_type": "markdown",
   "id": "051e5c46-13b1-4d6c-b3d4-e1fab0e8e74d",
   "metadata": {},
   "source": [
    "# ISE 3230 Final Project"
   ]
  },
  {
   "cell_type": "markdown",
   "id": "8e93bf0b-a3b4-45c9-b307-f36f46a0414e",
   "metadata": {},
   "source": [
    "## Goal:"
   ]
  },
  {
   "cell_type": "markdown",
   "id": "f5cc90a0-a5e9-4704-a541-4a7e9d2218dc",
   "metadata": {},
   "source": [
    "Minimize the total operational cost of meeting the Minerva Park's (located in Columbus, Ohio) electricity demand by determining the optimal on/off status of the biomass plants, the amount of power to be produced by each plant at each month, while adhering to the technical constraints (capacity, fuel, ramp-up/down, and startup costs)."
   ]
  },
  {
   "cell_type": "markdown",
   "id": "60e76734-07f6-4863-80b3-9147ff974784",
   "metadata": {},
   "source": [
    "## Data Collection: "
   ]
  },
  {
   "cell_type": "markdown",
   "id": "da198306-10e3-4219-9235-6c7434926977",
   "metadata": {},
   "source": [
    "We went to a state level government website to find which power plants in Ohio use biomass in order to generate electricity. We were able to find metrics such as power capacity of the plant at any given time (Pi,m) (in MW) and were able to calculate the maximum amount of electricity (in MWh) for a plant running at full capacity. Lastly, we used data/metrics given about the generators at each plant to determine the ramp up/ramp down costs for each plant. Also, we weren't able to find specific labor and maintenance costs for each plant, so we researched the average labor and maintenance costs in a year. And in order to determine the monthly demand for electricity (in MWh), we used the estimated number of households in Minerva Park multiplied by the average number of KWhs used per household on a monthly basis in order to determine the entire city’s monthly electrical demand.\n"
   ]
  },
  {
   "cell_type": "markdown",
   "id": "b09f5627-4ba2-41b6-9499-70c08c16bfbf",
   "metadata": {},
   "source": [
    "## Problem Set-Up:"
   ]
  },
  {
   "cell_type": "markdown",
   "id": "db95aeb6-76d4-412f-8721-8dd6ef594bc0",
   "metadata": {},
   "source": [
    "The problem should represent a unit commitment MILP such that we can use binary and decision variables in order to determine when certain facilities should be operational at a given month m such that we can determine the most cost-effective way to power the city of columbus solely off of electricity generated using biomass.\n",
    "\n",
    "Assuming 1 ton of biomassfuel cost = $229.48\n"
   ]
  },
  {
   "cell_type": "markdown",
   "id": "56729325-c52f-46e6-be85-3595ad9cae55",
   "metadata": {},
   "source": [
    "### Plant 1: Sauder Power Plant"
   ]
  },
  {
   "cell_type": "markdown",
   "id": "a8d62075-abbe-4011-bcd3-b6f6b2692200",
   "metadata": {},
   "source": [
    "\n",
    "- Plant Capacity: 7.2 MWh (892 MW in a month)\n",
    "- Fuel Consumption Rate: 60 tons per day / 1,748 tons per month\n",
    "- Fuel Consumption cost: \\$401,277 per month\n",
    "- Ramp up/Ramp down cost: $306 \n",
    "- Labor and Maintenance Cost: \\$2,000,000 (dollars/in one year) 166,667 per month\n"
   ]
  },
  {
   "cell_type": "markdown",
   "id": "e852eb34-2073-4ab1-93d2-484324d761ab",
   "metadata": {},
   "source": [
    "### Plant 2: Napoleon Biogas"
   ]
  },
  {
   "cell_type": "markdown",
   "id": "f988a0c0-346c-4f92-b144-6cbf0e1c545b",
   "metadata": {},
   "source": [
    "- Plant Capacity: 11.2 MW in da day (347.2 MWh in a month)\n",
    "- Fuel Consumption Rate: 60 tons per day / 1,748 tons per month\n",
    "- Fuel Consumption cost: \\$401,277 per month\n",
    "- Ramp up/Ramp down cost: $250\n",
    "- Labor and Maintenance Cost: 2,000,000 (dollars/in one year) 166,667 per month"
   ]
  },
  {
   "cell_type": "markdown",
   "id": "d3553ac3-236f-42af-93c5-9fe623462439",
   "metadata": {},
   "source": [
    "### Plant 3: Pixelle Speciality Solutions LLC - Chillicothe Facility"
   ]
  },
  {
   "cell_type": "markdown",
   "id": "2d64de4b-74c7-4f6a-ac5b-5f26326c6fa6",
   "metadata": {},
   "source": [
    "- Plant Capacity: 27.2 MW in a day (843.2 MW in a month)\n",
    "- Fuel Consumption Rate: 60 tons per day / 1,748 tons per month\n",
    "- Fuel Consumption cost: \\$401,277 per month\n",
    "- Ramp up/Ramp down cost: 187$\n",
    "- Labor and Maintenance Cost: 2,000,000 (dollars/in one year) 166,667 per month"
   ]
  },
  {
   "cell_type": "markdown",
   "id": "afd54586-7f39-4903-a059-3dbf91c1e090",
   "metadata": {},
   "source": [
    "### City Electricity Demand (Columbus, Ohio):"
   ]
  },
  {
   "cell_type": "markdown",
   "id": "64ed05dd-bf76-4595-b063-7f18b2afe76e",
   "metadata": {},
   "source": [
    "- Average household usage (in KWh): 745\n",
    "- Estimated Number of Households: 803.9\n",
    "- $745 * 803.9 = 598,905$ MW per month for all Minerva Park households or 598.682 MW per month"
   ]
  },
  {
   "cell_type": "markdown",
   "id": "486f9081-859a-4096-9372-68963f3f57dc",
   "metadata": {},
   "source": [
    "### Descision Varaibles"
   ]
  },
  {
   "cell_type": "markdown",
   "id": "6019e9c4-0adb-4c6d-983b-fd2896e8ff01",
   "metadata": {},
   "source": [
    "- Let $P_{i,m}$ represent the power produced by plant $i$ in month $m$ in (MW).\n",
    "- Let $b_{i,m}$ represent a binary variable indicating whether plant $i$ is operational (1) or not (0) in month $m$.\n",
    "- Let $r_{i}$ represent the cost associated cost of ramping up/ramping down the generator at plant $i$.\n",
    "- Let $f_{i}$ represent the cost of fuel consumed by plant $i$.\n",
    "- Let $C_{i}$ represent the maximum plant capacity for plant $i$.\n",
    "- Let $z_{i,m}$ represent an auxillary variable used to measure whether the binary operational status of plant i changes from month m - 1 to month m. \n",
    "- Average Monthly MWh for entire city of Columbus: $294,205$ MW\n",
    "- Average Labor/Maintenance Cost per month:  $166,667$\n",
    "- Where plant $i = {1, 2 ,3}$ and month $m = {1,2…,12}$:\n",
    "$$\\min Z = \\sum_{m=1}^{12}\\sum_{i=1}^{3}(f_{i}b_{i,m} + LM_{i}b_{i,m} + r_{i}z_{i,m})$$"
   ]
  },
  {
   "cell_type": "markdown",
   "id": "3665bfad-c364-482a-a0ad-55d1e3d599c6",
   "metadata": {},
   "source": [
    "### Constraints"
   ]
  },
  {
   "cell_type": "markdown",
   "id": "4237af49-9230-406d-936e-807f51f98d6a",
   "metadata": {},
   "source": [
    "### General Constraints:\n",
    "- **Plant Capacity Constraint:** \n",
    "  $$P_{i,m} \\leq C_{i} b_{i,m}$$\n",
    "  \n",
    "- **Ramp Up/Ramp Down Constraint:**\n",
    "  $$|P_{i,m} - P_{i,m-1}| \\leq C_{i} z_{i,m}$$\n",
    "  \n",
    "- **Non-Negativity Constraint:**\n",
    "  $$P_{i,m} \\geq 0$$\n",
    "  \n",
    "- **Operational Status:** \n",
    "  $$b_{i,m} \\in \\{0, 1\\}$$\n",
    "  \n",
    "### Plant 1 Constraints:\n",
    "$$P_{1,m} \\leq 892 \\cdot b_{1,m}$$\n",
    "$$z_{1,m} \\geq b_{1,m} - b_{1,m - 1}$$\n",
    "$$z_{1,m} \\geq b_{1,m - 1} - b_{1,m}$$\n",
    "$$z_{1,1} \\geq b_{1,1}$$\n",
    "$$P_{1,m} \\geq 0$$\n",
    "$$z_{1,m} \\geq 0$$\n",
    "\n",
    "### Plant 2 Constraints:\n",
    "$$P_{2,m} \\leq 347.2 \\cdot b_{2,m}$$\n",
    "$$z_{2,m} \\geq b_{2,m} - b_{2,m - 1}$$\n",
    "$$z_{2,m} \\geq b_{2,m - 1} - b_{2,m}$$\n",
    "$$z_{2,1} \\geq b_{2,1}$$\n",
    "$$P_{2,m} \\geq 0$$\n",
    "$$z_{2,m} \\geq 0$$\n",
    "\n",
    "### Plant 3 Constraints:\n",
    "$$P_{3,m} \\leq 843.2 \\cdot b_{3,m}$$\n",
    "$$z_{3,m} \\geq b_{3,m} - b_{3,m - 1}$$\n",
    "$$z_{3,m} \\geq b_{3,m - 1} - b_{3,m}$$\n",
    "$$z_{3,1} \\geq b_{3,1}$$\n",
    "$$P_{3,m} \\geq 0$$\n",
    "$$z_{3,m} \\geq 0$$\n",
    "\n",
    "### Demand Constraints:\n",
    "- The total power production must meet or exceed the demand for each month:\n",
    "  $$P_{1,m} + P_{2,m} + P_{3,m} \\geq \\text{demand}_{m}$$\n",
    "\n",
    "- The total power production must not exceed the maximum demand for each month:\n",
    "  $$P_{1,m} + P_{2,m} + P_{3,m} \\leq 2082$$\n",
    "\n",
    "### Additional Constraints:\n",
    "- **At Least Two Plants Must Be Operational:**\n",
    "  $$\\sum_{i=1}^{3} b_{i,m} \\geq 2 \\quad \\forall m$$\n",
    "  \n",
    "### Binary Constraints:\n",
    "$$b_{i,m} \\in \\{0, 1\\} \\quad \\forall i, m$$\n",
    "\n"
   ]
  },
  {
   "cell_type": "markdown",
   "id": "21906d24-2bd0-45a1-8b62-4563256bcad3",
   "metadata": {},
   "source": [
    "## Minimization Problem"
   ]
  },
  {
   "cell_type": "code",
   "execution_count": 63,
   "id": "9a1a72fd",
   "metadata": {},
   "outputs": [
    {
     "name": "stdout",
     "output_type": "stream",
     "text": [
      "===============================================================================\n",
      "                                     CVXPY                                     \n",
      "                                     v1.5.3                                    \n",
      "===============================================================================\n",
      "(CVXPY) Nov 24 08:51:37 PM: Your problem has 108 variables, 210 constraints, and 0 parameters.\n",
      "(CVXPY) Nov 24 08:51:37 PM: It is compliant with the following grammars: DCP, DQCP\n",
      "(CVXPY) Nov 24 08:51:37 PM: (If you need to solve this problem multiple times, but with different data, consider using parameters.)\n",
      "(CVXPY) Nov 24 08:51:37 PM: CVXPY will first compile your problem; then, it will invoke a numerical solver to obtain a solution.\n",
      "(CVXPY) Nov 24 08:51:37 PM: Your problem is compiled with the CPP canonicalization backend.\n",
      "-------------------------------------------------------------------------------\n",
      "                                  Compilation                                  \n",
      "-------------------------------------------------------------------------------\n",
      "(CVXPY) Nov 24 08:51:37 PM: Compiling problem (target solver=GUROBI).\n",
      "(CVXPY) Nov 24 08:51:37 PM: Reduction chain: CvxAttr2Constr -> Qp2SymbolicQp -> QpMatrixStuffing -> GUROBI\n",
      "(CVXPY) Nov 24 08:51:37 PM: Applying reduction CvxAttr2Constr\n",
      "(CVXPY) Nov 24 08:51:37 PM: Applying reduction Qp2SymbolicQp\n",
      "(CVXPY) Nov 24 08:51:37 PM: Applying reduction QpMatrixStuffing\n",
      "(CVXPY) Nov 24 08:51:37 PM: Applying reduction GUROBI\n",
      "(CVXPY) Nov 24 08:51:37 PM: Finished problem compilation (took 9.180e-02 seconds).\n",
      "-------------------------------------------------------------------------------\n",
      "                                Numerical solver                               \n",
      "-------------------------------------------------------------------------------\n",
      "(CVXPY) Nov 24 08:51:37 PM: Invoking solver GUROBI  to obtain a solution.\n",
      "Set parameter QCPDual to value 1\n",
      "Gurobi Optimizer version 11.0.3 build v11.0.3rc0 (mac64[arm] - Darwin 23.6.0 23G93)\n",
      "\n",
      "CPU model: Apple M1 Pro\n",
      "Thread count: 8 physical cores, 8 logical processors, using up to 8 threads\n",
      "\n",
      "Optimize a model with 210 rows, 108 columns and 486 nonzeros\n",
      "Model fingerprint: 0x4eaaf59f\n",
      "Variable types: 0 continuous, 108 integer (72 binary)\n",
      "Coefficient statistics:\n",
      "  Matrix range     [1e+00, 9e+02]\n",
      "  Objective range  [2e+03, 4e+05]\n",
      "  Bounds range     [1e+00, 1e+00]\n",
      "  RHS range        [2e+00, 2e+03]\n",
      "\n",
      "No start values specified in MIP start\n",
      "\n",
      "Found heuristic solution: objective 2.986734e+09\n",
      "Presolve removed 84 rows and 3 columns\n",
      "Presolve time: 0.00s\n",
      "Presolved: 126 rows, 105 columns, 342 nonzeros\n",
      "Variable types: 0 continuous, 105 integer (69 binary)\n",
      "\n",
      "Root relaxation: interrupted, 24 iterations, 0.00 seconds (0.00 work units)\n",
      "\n",
      "    Nodes    |    Current Node    |     Objective Bounds      |     Work\n",
      " Expl Unexpl |  Obj  Depth IntInf | Incumbent    BestBd   Gap | It/Node Time\n",
      "\n",
      "     0     0          -    0      2.9867e+09 2.9867e+09  0.00%     -    0s\n",
      "\n",
      "Explored 1 nodes (24 simplex iterations) in 0.02 seconds (0.00 work units)\n",
      "Thread count was 8 (of 8 available processors)\n",
      "\n",
      "Solution count 1: 2.98673e+09 \n",
      "\n",
      "Optimal solution found (tolerance 1.00e-04)\n",
      "Best objective 2.986733929000e+09, best bound 2.986692237000e+09, gap 0.0014%\n",
      "-------------------------------------------------------------------------------\n",
      "                                    Summary                                    \n",
      "-------------------------------------------------------------------------------\n",
      "(CVXPY) Nov 24 08:51:37 PM: Problem status: optimal\n",
      "(CVXPY) Nov 24 08:51:37 PM: Optimal value: 2.987e+09\n",
      "(CVXPY) Nov 24 08:51:37 PM: Compilation took 9.180e-02 seconds\n",
      "(CVXPY) Nov 24 08:51:37 PM: Solver (including time spent in interface) took 5.345e-02 seconds\n",
      "Optimized Power: [[  0. 719.   0.   0.   0.   0.   0.   0.   0. 193.   0.   0.]\n",
      " [  0.   0.   0.   0.   0.   0.   0.   0. 347. 347.   0. 347.]\n",
      " [659.   0. 540. 480. 540. 719. 779. 719. 252.   0. 480. 312.]]\n",
      "Operational Status: [[0. 1. 0. 0. 0. 0. 0. 0. 0. 1. 0. 0.]\n",
      " [1. 0. 1. 1. 1. 1. 1. 1. 1. 1. 1. 1.]\n",
      " [1. 1. 1. 1. 1. 1. 1. 1. 1. 0. 1. 1.]]\n",
      "Ramp Status: [[0. 1. 1. 0. 0. 0. 0. 0. 0. 1. 1. 0.]\n",
      " [0. 0. 0. 0. 0. 0. 0. 0. 1. 0. 1. 1.]\n",
      " [0. 1. 1. 1. 1. 1. 1. 1. 1. 1. 1. 1.]]\n"
     ]
    }
   ],
   "source": [
    "import cvxpy as cp\n",
    "import numpy as np\n",
    "\n",
    "# Parameters (constant values for the optimization)\n",
    "average_demand = 598.90  # MW\n",
    "\n",
    "# Seasonal multipliers to adjust demand\n",
    "seasonal_multipliers = np.array([\n",
    "    1.1,  # January (Winter)\n",
    "    1.2,  # February (Winter)\n",
    "    0.9,  # March (Spring)\n",
    "    0.8,  # April (Spring)\n",
    "    0.9,  # May (Spring)\n",
    "    1.2,  # June (Summer)\n",
    "    1.3,  # July (Summer)\n",
    "    1.2,  # August (Summer)\n",
    "    1.0,  # September (Fall)\n",
    "    0.9,  # October (Fall)\n",
    "    0.8,  # November (Fall)\n",
    "    1.1   # December (Winter)\n",
    "])\n",
    "\n",
    "# Adjust the demand array based on seasonal variation\n",
    "demand = average_demand * seasonal_multipliers\n",
    "\n",
    "# Other parameters remain unchanged\n",
    "C1, C2, C3 = 892, 347.2, 843.2  # Maximum capacities for each plant\n",
    "fuel_cost_1, fuel_cost_2, fuel_cost_3 = 401277, 401277, 401277  # Fuel costs per month\n",
    "ramp_cost_1, ramp_cost_2, ramp_cost_3 = 2448, 2200, 2300  # Ramp-up/down costs per day\n",
    "LM_cost = 166679  # Labor/Maintenance cost per month per plant\n",
    "\n",
    "# Maximum demand constraint (2082 MW)\n",
    "max_demand = 2082\n",
    "\n",
    "# Decision variables (these will be optimized)\n",
    "P = cp.Variable((3, 12), integer=True)  # Power produced by each plant for each month\n",
    "B = cp.Variable((3, 12), boolean=True)  # Operational status of each plant\n",
    "Z = cp.Variable((3, 12), boolean=True)  # Ramp-up/ramp-down status\n",
    "\n",
    "# Objective function components\n",
    "fuel_cost = (\n",
    "    fuel_cost_1 * cp.sum(P[0, :]) + \n",
    "    fuel_cost_2 * cp.sum(P[1, :]) + \n",
    "    fuel_cost_3 * cp.sum(P[2, :])\n",
    ")\n",
    "\n",
    "ramp_cost = (\n",
    "    ramp_cost_1 * cp.sum(Z[0, :]) + \n",
    "    ramp_cost_2 * cp.sum(Z[1, :]) + \n",
    "    ramp_cost_3 * cp.sum(Z[2, :])\n",
    ")\n",
    "\n",
    "labor_maintenance_cost = (\n",
    "    LM_cost * cp.sum(B[0, :]) + \n",
    "    LM_cost * cp.sum(B[1, :]) + \n",
    "    LM_cost * cp.sum(B[2, :])\n",
    ")\n",
    "\n",
    "# Total objective function (Minimize)\n",
    "total_cost = fuel_cost + ramp_cost + labor_maintenance_cost\n",
    "objective = cp.Minimize(total_cost)\n",
    "\n",
    "# Constraints List\n",
    "constraints = []\n",
    "\n",
    "# 1. Power Produced by Each Plant Cannot Exceed Maximum Capacity\n",
    "constraints += [P[0, :] <= C1 * B[0, :]]  # Plant 1 capacity constraint\n",
    "constraints += [P[1, :] <= C2 * B[1, :]]  # Plant 2 capacity constraint\n",
    "constraints += [P[2, :] <= C3 * B[2, :]]  # Plant 3 capacity constraint\n",
    "\n",
    "# 2. Demand Satisfaction: The total power produced by all plants must meet or exceed the demand\n",
    "constraints += [cp.sum(P, axis=0) >= demand]  # Total power >= demand for each month\n",
    "\n",
    "# 3. Ramp-up and Ramp-down Constraints\n",
    "for i in range(3):  # For each plant\n",
    "    for m in range(1, 12):  # Start from the second month\n",
    "        constraints += [P[i, m] - P[i, m-1] <= C1 * Z[i, m]]  # Ramp-up constraint\n",
    "        constraints += [P[i, m-1] - P[i, m] <= C1 * Z[i, m]]  # Ramp-down constraint\n",
    "\n",
    "# 4. Operational Status Constraints: If a plant is not operational, its power should be zero.\n",
    "for i in range(3):  # For each plant\n",
    "    for m in range(12):  # For each month\n",
    "        constraints += [P[i, m] <= C1 * B[i, m]]  # If plant is off, power should be 0\n",
    "        constraints += [P[i, m] >= 0]  # Power must be non-negative\n",
    "\n",
    "# 5. Ensure Binary Nature of B and Z (Binary constraints for operational status and ramp status)\n",
    "# These are implicitly enforced by the variable declarations (no need for additional constraints)\n",
    "\n",
    "# 6. New Constraint: At least two plants must be operational each month\n",
    "for m in range(12):  # For each month\n",
    "    constraints += [cp.sum(B[:, m]) >= 2]  # Sum of operational plants >= 2\n",
    "\n",
    "# 7. New Demand Constraint: The total power production should not exceed the maximum demand\n",
    "constraints += [cp.sum(P, axis=0) <= max_demand]  # Total power should not exceed max demand for each month\n",
    "\n",
    "# Solve the problem\n",
    "problem = cp.Problem(objective, constraints)\n",
    "problem.solve(solver=cp.GUROBI, verbose=True, qcp=True)\n",
    "\n",
    "# After solving, you can access the optimized values for the variables\n",
    "print(\"Optimized Power:\", P.value)\n",
    "print(\"Operational Status:\", B.value)\n",
    "print(\"Ramp Status:\", Z.value)\n"
   ]
  }
 ],
 "metadata": {
  "kernelspec": {
   "display_name": "Python 3 (ipykernel)",
   "language": "python",
   "name": "python3"
  },
  "language_info": {
   "codemirror_mode": {
    "name": "ipython",
    "version": 3
   },
   "file_extension": ".py",
   "mimetype": "text/x-python",
   "name": "python",
   "nbconvert_exporter": "python",
   "pygments_lexer": "ipython3",
   "version": "3.9.18"
  }
 },
 "nbformat": 4,
 "nbformat_minor": 5
}
